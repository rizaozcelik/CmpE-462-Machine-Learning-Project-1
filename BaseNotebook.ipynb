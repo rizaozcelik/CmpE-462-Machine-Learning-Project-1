{
 "cells": [
  {
   "cell_type": "code",
   "execution_count": null,
   "metadata": {
    "collapsed": true
   },
   "outputs": [],
   "source": [
    "from sklearn.linear_model import LinearRegression\n",
    "import pandas as pd\n",
    "from scipy.stats import kendalltau"
   ]
  },
  {
   "cell_type": "markdown",
   "metadata": {},
   "source": [
    "# Evaluation"
   ]
  },
  {
   "cell_type": "code",
   "execution_count": null,
   "metadata": {
    "collapsed": true
   },
   "outputs": [],
   "source": [
    "# Fill this function to construct a data frame X that contains your final features extracted from the dataset\n",
    "def construct_features(df):\n",
    "    pass\n",
    "    return X\n"
   ]
  },
  {
   "cell_type": "code",
   "execution_count": null,
   "metadata": {
    "collapsed": true
   },
   "outputs": [],
   "source": [
    "# Fill this function to construct a data frame y that contains the labels of the test data\n",
    "def construct_labels(df):\n",
    "    pass\n",
    "    return y"
   ]
  },
  {
   "cell_type": "code",
   "execution_count": null,
   "metadata": {
    "collapsed": true
   },
   "outputs": [],
   "source": [
    "# If you try to choose to predict points instead of rankings then you should implement this function as well\n",
    "# to generate rankings. If you predict the rankings directly, you can leave this function as it is.\n",
    "def convert_points_to_predictions(predictions):\n",
    "    pass\n",
    "    return predictions"
   ]
  },
  {
   "cell_type": "code",
   "execution_count": null,
   "metadata": {
    "collapsed": true
   },
   "outputs": [],
   "source": [
    "# This function will evaluate your features test performance using the ranking predictions\n",
    "def compute_test_score(outfile_name):\n",
    "    # X_test should contain the feature you engineered and y_test should contain the corresponding labels, which are team rankings \n",
    "    X_test = construct_features(pd.read_excel('test_data.xlsx',sheet_name='Player'))\n",
    "    y_test = construct_labels(pd.read_excel('test_data.xlsx',sheet_name='Points'))\n",
    "    # This is the regression model you will use\n",
    "    final_model = LinearRegression(fit_intercept=False)\n",
    "    final_model.fit(X_test,y_test)\n",
    "    # Your model's predictions will be stored in this array\n",
    "    predictions = final_model.predict(X_test)\n",
    "    # Your model can predict either points or rankings. If necessary, change the function above\n",
    "    predictions = convert_points_to_rankings(predictions)\n",
    "    # Your performance on the test set\n",
    "    tau, _ = kendalltau(predictions, y_test)\n",
    "    # Print tau both to file and screen\n",
    "    print(tau)\n",
    "    f = open(outfile_name, 'w')\n",
    "    f.print(tau)\n",
    "    f.close()\n",
    "\n",
    "#outfile name should have the format ID1_ID2_ID3.txt\n",
    "outfile_name = None\n",
    "compute_test_score(outfile_name)"
   ]
  }
 ],
 "metadata": {
  "kernelspec": {
   "display_name": "Python 3",
   "language": "python",
   "name": "python3"
  },
  "language_info": {
   "codemirror_mode": {
    "name": "ipython",
    "version": 3
   },
   "file_extension": ".py",
   "mimetype": "text/x-python",
   "name": "python",
   "nbconvert_exporter": "python",
   "pygments_lexer": "ipython3",
   "version": "3.6.1"
  }
 },
 "nbformat": 4,
 "nbformat_minor": 2
}
